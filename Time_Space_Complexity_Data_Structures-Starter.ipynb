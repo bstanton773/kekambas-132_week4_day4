{
 "cells": [
  {
   "cell_type": "markdown",
   "metadata": {},
   "source": [
    "# Time/Space Complexity - Intro to Data Structures (User Defined)\n",
    "\n",
    "### Topics to discuss today:\n",
    "\n",
    "<ul>\n",
    "    <li>Time and Space Complexity - What is it/How do we measure it</li>\n",
    "    <li>Asymptotic Analysis</li>\n",
    "    <li><strong>Data Structures</strong></li>\n",
    "</ul>\n",
    "\n",
    "### Data Structures to discuss:\n",
    "- Arrays\n",
    "- Stacks\n",
    "- Queues\n",
    "- Linked Lists\n",
    "    - Singly Linked Lists\n",
    "    - Traversing A Linked List\n",
    "    - Finding a node in a linked list\n",
    "    - Adding to a linked list\n",
    "- Binary Search Trees\n",
    "    - Construction\n",
    "    - Traversal\n"
   ]
  },
  {
   "cell_type": "markdown",
   "metadata": {},
   "source": [
    "## Time and Space Complexity\n",
    "\n",
    "#### What is it?\n",
    "\n",
    "Time and space complexity is the measure of how much time a given action(function) will take to solve a problem. In the same fashion, we determine how much a given data structure will need in terms of memory allocation. A problem can have multiple solutions and finding the optimal solution for the problem needs to be analyzed in time and space.\n",
    "\n",
    "#### How do we measure Time and Space Complexity?\n",
    "\n",
    "In order to measure time and space complexity we use Asymptotic analysis. The reason for this is because we need a way to measure different algorithms (functions) based on the size of their inputs in a mathmatical way. For example, we could have a function that is computed as f(n) and another that is g(n^2). All things around the function staying constant, the only thing that changes is the size of the input. Below is the chart that shows the different Asymptotic analysis formats. "
   ]
  },
  {
   "cell_type": "markdown",
   "metadata": {},
   "source": [
    "<table style=\"text-align:center;\" class=\"table table-bordered\">\n",
    "<tbody><tr>\n",
    "<td>constant</td>\n",
    "<td>−</td>\n",
    "<td>Ο(1)</td>\n",
    "</tr>\n",
    "<tr>\n",
    "<td>logarithmic</td>\n",
    "<td>−</td>\n",
    "<td>Ο(log n)</td>\n",
    "</tr>\n",
    "<tr>\n",
    "<td>linear</td>\n",
    "<td>−</td>\n",
    "<td>Ο(n)</td>\n",
    "</tr>\n",
    "<tr>\n",
    "<td>Linear Logarithmic</td>\n",
    "<td>−</td>\n",
    "<td>Ο(n log n)</td>\n",
    "</tr>\n",
    "<tr>\n",
    "<td>quadratic</td>\n",
    "<td>−</td>\n",
    "<td>Ο(n<sup>2</sup>)</td>\n",
    "</tr>\n",
    "<tr>\n",
    "<td>cubic</td>\n",
    "<td>−</td>\n",
    "<td>Ο(n<sup>3</sup>)</td>\n",
    "</tr>\n",
    "<tr>\n",
    "<td>polynomial</td>\n",
    "<td>−</td>\n",
    "<td>n<sup>Ο(1)</sup></td>\n",
    "</tr>\n",
    "<tr>\n",
    "<td>exponential</td>\n",
    "<td>−</td>\n",
    "<td>2<sup>Ο(n)</sup></td>\n",
    "</tr>\n",
    "</tbody></table>"
   ]
  },
  {
   "cell_type": "markdown",
   "metadata": {},
   "source": [
    "## Arrays"
   ]
  },
  {
   "cell_type": "markdown",
   "metadata": {},
   "source": [
    "In python we benefit from the dynamic array which means the block of memory will expand as needed for the given input to the array. In traditional arrays (depending on the type of operating system) we will usually store our inputs in 4 or 8 consecutive blocks of memory. "
   ]
  },
  {
   "cell_type": "markdown",
   "metadata": {},
   "source": [
    "## Which in python looks like this:"
   ]
  },
  {
   "cell_type": "code",
   "execution_count": 2,
   "metadata": {},
   "outputs": [
    {
     "name": "stdout",
     "output_type": "stream",
     "text": [
      "[1, 2, 3, 4, 5, 6, 7, 8, 9, 10]\n",
      "[1, 2, 3, 4, 5, 6, 7, 8, 9, 10]\n"
     ]
    }
   ],
   "source": [
    "list_of_ten = []\n",
    "for i in range(1,11):\n",
    "    list_of_ten.append(i)\n",
    "print(list_of_ten)\n",
    "\n",
    "list_of_ten_comp = [i for i in range(1,11)]\n",
    "print(list_of_ten_comp)"
   ]
  },
  {
   "cell_type": "code",
   "execution_count": 7,
   "metadata": {},
   "outputs": [
    {
     "name": "stdout",
     "output_type": "stream",
     "text": [
      "[1, 2, 3, 4, 5, 6, 7, 8, 9, 10]\n"
     ]
    }
   ],
   "source": [
    "my_list = [None] * 10\n",
    "for i in range(1,11):\n",
    "    my_list[i-1] = i\n",
    "print(my_list)"
   ]
  },
  {
   "cell_type": "markdown",
   "metadata": {},
   "source": [
    "### Let's take a look at some of the time and space analysis of arrays"
   ]
  },
  {
   "cell_type": "code",
   "execution_count": 32,
   "metadata": {},
   "outputs": [
    {
     "name": "stdout",
     "output_type": "stream",
     "text": [
      "[24, 22, 45, 78, 35, 43, 96, 65, 86, 56]\n"
     ]
    }
   ],
   "source": [
    "import random\n",
    "\n",
    "my_arr = [random.randint(1,100) for _ in range(10)]\n",
    "print(my_arr)"
   ]
  },
  {
   "cell_type": "code",
   "execution_count": 37,
   "metadata": {},
   "outputs": [
    {
     "name": "stdout",
     "output_type": "stream",
     "text": [
      "35\n",
      "False\n",
      "[24, 22, 45, 78, 35, 43, 96, 65, 86, 56]\n",
      "[24, 22, 45, 1234, 35, 43, 96, 65, 86, 56]\n"
     ]
    }
   ],
   "source": [
    "# Indexing a list\n",
    "# Constant Time and Constant Space - O(1)\n",
    "indexing = my_arr[4]\n",
    "print(indexing)\n",
    "\n",
    "\n",
    "# Searching through an array\n",
    "# Linear Time - O(n) and Constant Space - O(1)\n",
    "print(44 in my_arr)\n",
    "\n",
    "\n",
    "# Copying a list\n",
    "# Linear Time and Linear Space - O(n)\n",
    "copied_arr = my_arr[:]\n",
    "print(copied_arr)\n",
    "\n",
    "# Assigning a value via index to a list\n",
    "# Constant Time and Constant Space - O(1)\n",
    "my_arr[3] = 1234\n",
    "print(my_arr)"
   ]
  },
  {
   "cell_type": "code",
   "execution_count": 38,
   "metadata": {},
   "outputs": [
    {
     "name": "stdout",
     "output_type": "stream",
     "text": [
      "1\n",
      "4\n",
      "9\n",
      "4\n",
      "16\n",
      "36\n",
      "9\n",
      "36\n",
      "81\n",
      "1\n",
      "4\n",
      "9\n"
     ]
    },
    {
     "data": {
      "text/plain": [
       "[1, 4, 9]"
      ]
     },
     "execution_count": 38,
     "metadata": {},
     "output_type": "execute_result"
    }
   ],
   "source": [
    "def some_func(arr):\n",
    "    for x in range(len(arr)): # O(n) - Linear Time\n",
    "        arr[x] = arr[x]**2 # O(1) - Constant Time\n",
    "    for i in arr: # O(n) - Linear Time\n",
    "        for j in arr: # O(n) - Linear Time\n",
    "            print(i * j) # O(1) - Constant Time\n",
    "    for r in arr: # O(n) - Linear Time\n",
    "        print(r) # O(1) - Constant Time\n",
    "    return arr # O(1) - Constant Time\n",
    "\n",
    "\n",
    "some_func([1, 2, 3]) # O((n * 1) + (n * n * 1) + (n * 1) + (1))\n",
    "\n",
    "# O(n + n**2 + n + 1)\n",
    "# O(n**2 + 2n + 1)\n",
    "# Drop all coefficients \n",
    "# O(n**2 + n + 1)\n",
    "# and lower order complexities\n",
    "# O(n**2)\n"
   ]
  },
  {
   "cell_type": "code",
   "execution_count": 45,
   "metadata": {},
   "outputs": [],
   "source": [
    "def print_all_elements(a_list): # O(n)\n",
    "    num_operations = 0\n",
    "    for item in a_list:\n",
    "        print(item)\n",
    "        num_operations += 1\n",
    "    print('Num Operations:', num_operations)\n",
    "    \n",
    "def print_first_element(a_list): # O(1)\n",
    "    num_operations = 0\n",
    "    print(a_list[0])\n",
    "    num_operations += 1\n",
    "    print('Num Operations:', num_operations)"
   ]
  },
  {
   "cell_type": "code",
   "execution_count": 48,
   "metadata": {
    "scrolled": false
   },
   "outputs": [
    {
     "name": "stdout",
     "output_type": "stream",
     "text": [
      "1\n",
      "2\n",
      "3\n",
      "4\n",
      "5\n",
      "6\n",
      "7\n",
      "8\n",
      "9\n",
      "10\n",
      "Num Operations: 10\n",
      "1\n",
      "Num Operations: 1\n"
     ]
    }
   ],
   "source": [
    "test_list = [x for x in range(1,11)]\n",
    "\n",
    "print_all_elements(test_list)\n",
    "print_first_element(test_list)"
   ]
  },
  {
   "cell_type": "markdown",
   "metadata": {},
   "source": [
    "## Stacks and Queues (Review)\n",
    "\n",
    "** Stacks ** as the name suggests is a data structure that allows for data to follow the Last In First Out priciple(LIFO). Think of a stack of pancakes for example. To get the first pancake you would  start with the top and go down.\n",
    "\n",
    "##### Searching through a stack will be Linear Time O(n) - Constant Space O(1)\n",
    "##### Selecting the first item will be done in Linear Time O(n) - Constant Space O(1)\n",
    "##### Selecting the last item will be done in Constant Time O(1) - Constant Space O(1)\n",
    "##### Adding to the stack will be done in Constant Time O(1) - Constant Space O(1)\n",
    "\n",
    "** Queues ** are similar but in this case follow the First In First Out principle(FIFO). Think of this as a line in a black friday sale. The first person camped out for the big screen tv is the first to get it.\n",
    "\n",
    "##### Searching through a queue will be Linear Time O(n) - Constant Space O(1)\n",
    "##### Selecting the first item will be done in Constant Time O(1) - Constant Space O(1)\n",
    "##### Selecting the last item will be done in Linear Time O(n) - Constant Space O(1)\n",
    "##### Adding to the queue should take Constant Time O(1) - Constant Space O(1)"
   ]
  },
  {
   "cell_type": "code",
   "execution_count": 50,
   "metadata": {},
   "outputs": [],
   "source": [
    "# https://docs.python.org/3/library/collections.html#collections.deque\n",
    "from collections import deque"
   ]
  },
  {
   "cell_type": "code",
   "execution_count": 52,
   "metadata": {},
   "outputs": [
    {
     "name": "stdout",
     "output_type": "stream",
     "text": [
      "Stack:\n",
      "deque([10, 20, 30, 40, 50])\n",
      "50\n",
      "deque([10, 20, 30, 40])\n",
      "40\n",
      "deque([10, 20, 30])\n",
      "30\n",
      "deque([10, 20])\n",
      "20\n",
      "deque([10])\n",
      "10\n",
      "deque([])\n"
     ]
    }
   ],
   "source": [
    "print(\"Stack:\")\n",
    "\n",
    "stack = deque()\n",
    "\n",
    "\n",
    "stack.append(10)\n",
    "stack.append(20)\n",
    "stack.append(30)\n",
    "stack.append(40)\n",
    "stack.append(50)\n",
    "\n",
    "print(stack)\n",
    "\n",
    "while stack:\n",
    "    print(stack.pop())\n",
    "    print(stack)"
   ]
  },
  {
   "cell_type": "code",
   "execution_count": 53,
   "metadata": {},
   "outputs": [
    {
     "name": "stdout",
     "output_type": "stream",
     "text": [
      "Queue:\n",
      "deque(['Brian', 'Sarah', 'Kevin', 'Sam', 'Aften'])\n",
      "Brian\n",
      "deque(['Sarah', 'Kevin', 'Sam', 'Aften'])\n",
      "Sarah\n",
      "deque(['Kevin', 'Sam', 'Aften'])\n",
      "Kevin\n",
      "deque(['Sam', 'Aften'])\n",
      "Sam\n",
      "deque(['Aften'])\n",
      "Aften\n",
      "deque([])\n"
     ]
    }
   ],
   "source": [
    "print(\"Queue:\")\n",
    "\n",
    "queue = deque()\n",
    "\n",
    "queue.append('Brian')\n",
    "queue.append('Sarah')\n",
    "queue.append('Kevin')\n",
    "queue.append('Sam')\n",
    "queue.append('Aften')\n",
    "\n",
    "print(queue)\n",
    "\n",
    "while queue:\n",
    "    print(queue.popleft())\n",
    "    print(queue)"
   ]
  },
  {
   "cell_type": "code",
   "execution_count": 54,
   "metadata": {},
   "outputs": [
    {
     "name": "stdout",
     "output_type": "stream",
     "text": [
      "Normal List:\n",
      "['Brian', 'Sarah', 'Kevin', 'Sam', 'Aften']\n",
      "Brian\n",
      "['Sarah', 'Kevin', 'Sam', 'Aften']\n",
      "Sarah\n",
      "['Kevin', 'Sam', 'Aften']\n",
      "Kevin\n",
      "['Sam', 'Aften']\n",
      "Sam\n",
      "['Aften']\n",
      "Aften\n",
      "[]\n"
     ]
    }
   ],
   "source": [
    "print(\"Normal List:\")\n",
    "\n",
    "queue = []\n",
    "\n",
    "queue.append('Brian')\n",
    "queue.append('Sarah')\n",
    "queue.append('Kevin')\n",
    "queue.append('Sam')\n",
    "queue.append('Aften')\n",
    "\n",
    "print(queue)\n",
    "\n",
    "while queue:\n",
    "    print(queue.pop(0)) # This is a O(n) operation on a normal list\n",
    "    print(queue)"
   ]
  },
  {
   "cell_type": "code",
   "execution_count": 56,
   "metadata": {},
   "outputs": [],
   "source": [
    "import matplotlib.pyplot as plt"
   ]
  },
  {
   "cell_type": "code",
   "execution_count": 79,
   "metadata": {},
   "outputs": [],
   "source": [
    "def loop_all_elements(a_list): # O(n)\n",
    "    num_operations = 0\n",
    "    for item in a_list:\n",
    "        num_operations += 1\n",
    "    for item in a_list:\n",
    "        num_operations += 1\n",
    "    for item in a_list:\n",
    "        num_operations += 1\n",
    "    for item in a_list:\n",
    "        num_operations += 1\n",
    "    for item in a_list:\n",
    "        num_operations += 1\n",
    "    for item in a_list:\n",
    "        num_operations += 1\n",
    "    return num_operations\n",
    "\n",
    "def get_first_element(a_list): # O(1)\n",
    "    num_operations = 0\n",
    "    num_operations += 1\n",
    "    return num_operations\n",
    "\n",
    "def nested_loop(a_list):\n",
    "    num_operations = 0\n",
    "    for i in a_list:\n",
    "        for j in a_list:\n",
    "            num_operations += 1\n",
    "    return num_operations"
   ]
  },
  {
   "cell_type": "code",
   "execution_count": 80,
   "metadata": {},
   "outputs": [],
   "source": [
    "constant = []\n",
    "linear = []\n",
    "quadratic = []\n",
    "\n",
    "for i in range(1, 11):\n",
    "    test_list = [x for x in range(i)]\n",
    "    constant.append(get_first_element(test_list))\n",
    "    linear.append(loop_all_elements(test_list))\n",
    "    quadratic.append(nested_loop(test_list))"
   ]
  },
  {
   "cell_type": "code",
   "execution_count": 81,
   "metadata": {},
   "outputs": [
    {
     "name": "stdout",
     "output_type": "stream",
     "text": [
      "[1, 1, 1, 1, 1, 1, 1, 1, 1, 1]\n",
      "[6, 12, 18, 24, 30, 36, 42, 48, 54, 60]\n",
      "[1, 4, 9, 16, 25, 36, 49, 64, 81, 100]\n"
     ]
    }
   ],
   "source": [
    "print(constant)\n",
    "print(linear)\n",
    "print(quadratic)"
   ]
  },
  {
   "cell_type": "code",
   "execution_count": 82,
   "metadata": {
    "scrolled": false
   },
   "outputs": [
    {
     "data": {
      "image/png": "[encoded data removed]",
      "text/plain": [
       "<Figure size 640x480 with 1 Axes>"
      ]
     },
     "metadata": {},
     "output_type": "display_data"
    }
   ],
   "source": [
    "plt.plot([x for x in range(1, 11)], constant)\n",
    "plt.plot([x for x in range(1, 11)], linear)\n",
    "plt.plot([x for x in range(1, 11)], quadratic)\n",
    "plt.xlabel('Size of List')\n",
    "plt.ylabel('Number of Operations')\n",
    "plt.show()"
   ]
  },
  {
   "cell_type": "markdown",
   "metadata": {},
   "source": [
    "## Linked List (Data Structure)\n",
    "\n",
    "A linked list is created by using the node class. We create a Node object and create another class to use this node object. We pass the appropriate values thorugh the node object to point the to the next data elements.\n",
    "\n",
    "There are some advantages and disadvantages with this data structure. **Advantages** Linked Lists can save memory because they can be flexibile with memory management which saves memory. **Disadvantages** Finding or adding to the list requires traversing the entire list."
   ]
  },
  {
   "cell_type": "code",
   "execution_count": 83,
   "metadata": {},
   "outputs": [
    {
     "name": "stdout",
     "output_type": "stream",
     "text": [
      "January\n",
      "February\n",
      "March\n"
     ]
    }
   ],
   "source": [
    "class LinkedListNode:\n",
    "    def __init__(self, value):\n",
    "        self.value = value\n",
    "        self.next = None\n",
    "        \n",
    "    def traverse_list(self):\n",
    "        node = self\n",
    "        while node is not None:\n",
    "            print(node.value)\n",
    "            node = node.next\n",
    "            \n",
    "            \n",
    "node1 = LinkedListNode('January')\n",
    "node2 = LinkedListNode('February')\n",
    "node3 = LinkedListNode('March')\n",
    "\n",
    "node1.next = node2\n",
    "node2.next = node3\n",
    "\n",
    "node1.traverse_list()"
   ]
  },
  {
   "cell_type": "code",
   "execution_count": 104,
   "metadata": {},
   "outputs": [
    {
     "name": "stdout",
     "output_type": "stream",
     "text": [
      "January\n",
      "February\n",
      "March\n",
      "April\n",
      "May\n",
      "June\n",
      "July\n",
      "August\n",
      "September\n",
      "October\n",
      "November\n",
      "December\n"
     ]
    }
   ],
   "source": [
    "# Complete Implementation of Linked List\n",
    "# - Add new node to the front of the Linked List\n",
    "# - Add new node to the end of the Linked List\n",
    "# - Get a node by it's value\n",
    "# - Insert new node after a particular node\n",
    "# - Traverse through the Linked List and print values\n",
    "\n",
    "# 2 Classes - Node Class and Linked List Class\n",
    "\n",
    "class Node:\n",
    "    def __init__(self, value):\n",
    "        self.value = value\n",
    "        self.next = None\n",
    "        \n",
    "    def __str__(self):\n",
    "        return str(self.value)\n",
    "    \n",
    "    def __repr__(self):\n",
    "        return f\"<Node|{self.value}>\"\n",
    "    \n",
    "    \n",
    "class LinkedList:\n",
    "    def __init__(self, head_node=None):\n",
    "        # head attribute will point to the first node of the Linked List\n",
    "        self.head = head_node\n",
    "        \n",
    "    # Method to add a new node to the front of the linked list\n",
    "    def push_on(self, new_value): # O(1) - Constant Time\n",
    "        # Create a new node with the value passed in\n",
    "        new_node = Node(new_value)\n",
    "        # Set the new node's .next attribute to be the current head\n",
    "        new_node.next = self.head\n",
    "        # Set the new node to be the front of the linked list (aka the head attribute)\n",
    "        self.head = new_node\n",
    "        \n",
    "    # Method to print out all of the nodes in the Linked List in order\n",
    "    def print_list(self):\n",
    "        # Start at the beginning of the list\n",
    "        node = self.head\n",
    "        # While the node is a node (and not None), continue to loop\n",
    "        while node is not None:\n",
    "            # Print the node (which will call the Node __str__ method)\n",
    "            print(node)\n",
    "            # Go to the next node in the list\n",
    "            node = node.next\n",
    "            \n",
    "    # Method to add a new node to the end of the linked list\n",
    "    def append(self, new_value): # O(n) - Linear Time\n",
    "        # Create a new node with the value passed in\n",
    "        new_node = Node(new_value)\n",
    "        # Check if the linked list is empty\n",
    "        if self.head is None:\n",
    "            # Set the head to be the new node\n",
    "            self.head = new_node\n",
    "        # If not\n",
    "        else:\n",
    "            # Traverse to the last node in the Linked List (aka the node.next is None)\n",
    "            node = self.head\n",
    "            while node.next is not None:\n",
    "                # move to the next node\n",
    "                node = node.next\n",
    "            # once node.next is None, set the node's next attribute to be the new node\n",
    "            node.next = new_node\n",
    "            \n",
    "    # Method to get a node by value or return None if not in the linked list\n",
    "    def get_node(self, value_to_get): # O(n) - Linear Time\n",
    "        # Start with the first node\n",
    "        node_to_check = self.head\n",
    "        # While the node_to_check is still a node\n",
    "        while node_to_check is not None:\n",
    "            # If the value of the node to check is equal to the value to get\n",
    "            if node_to_check.value == value_to_get:\n",
    "                # return that node\n",
    "                return node_to_check\n",
    "            # if not, move on to the next node\n",
    "            node_to_check = node_to_check.next\n",
    "        # Once the node to check is None, we know that the value is not in the linked list\n",
    "        return None\n",
    "    \n",
    "    # Method to insert a new node in the linked list after a certain node (by value)\n",
    "    def insert_after(self, prev_value, new_value):\n",
    "        # Get the previous node by value\n",
    "        prev_node = self.get_node(prev_value)\n",
    "        # Make sure the prev_node exists\n",
    "        if prev_node is None:\n",
    "            print(f\"{prev_value} is not in the linked list.\")\n",
    "        else:\n",
    "            # Create a new node with the new value\n",
    "            new_node = Node(new_value)\n",
    "            # point the new_node's next attribute at the previous node's next\n",
    "            new_node.next = prev_node.next\n",
    "            # point the previous node's next attribute to the new node\n",
    "            prev_node.next = new_node\n",
    "            \n",
    "        \n",
    "        \n",
    "        \n",
    "months = LinkedList()\n",
    "\n",
    "months.append('July')\n",
    "months.push_on('June')\n",
    "months.push_on('May')\n",
    "months.push_on('March')\n",
    "months.push_on('January')\n",
    "months.append('August')\n",
    "months.insert_after('March', 'April')\n",
    "months.insert_after('January', 'February')\n",
    "months.append('September')\n",
    "months.append('November')\n",
    "months.insert_after('September', 'October')\n",
    "months.append('December')\n",
    "months.print_list()"
   ]
  },
  {
   "cell_type": "code",
   "execution_count": 101,
   "metadata": {},
   "outputs": [
    {
     "name": "stdout",
     "output_type": "stream",
     "text": [
      "May\n"
     ]
    },
    {
     "data": {
      "text/plain": [
       "<Node|May>"
      ]
     },
     "execution_count": 101,
     "metadata": {},
     "output_type": "execute_result"
    }
   ],
   "source": [
    "may = months.get_node('May')\n",
    "print(may)\n",
    "may"
   ]
  },
  {
   "cell_type": "code",
   "execution_count": 102,
   "metadata": {},
   "outputs": [
    {
     "name": "stdout",
     "output_type": "stream",
     "text": [
      "None\n"
     ]
    }
   ],
   "source": [
    "april = months.get_node('April')\n",
    "print(april)\n",
    "april"
   ]
  },
  {
   "cell_type": "code",
   "execution_count": 105,
   "metadata": {},
   "outputs": [],
   "source": [
    "import time"
   ]
  },
  {
   "cell_type": "code",
   "execution_count": 122,
   "metadata": {},
   "outputs": [
    {
     "name": "stdout",
     "output_type": "stream",
     "text": [
      "Appending 1000 elements: 18.44185495376587\n",
      "Pushing 1000 elements: 0.058539390563964844\n"
     ]
    }
   ],
   "source": [
    "# Adding a new node the end of the list - O(n) - Linear Time\n",
    "a_linked_list = LinkedList()\n",
    "\n",
    "start = time.time()\n",
    "\n",
    "for i in range(10000):\n",
    "    a_linked_list.append(i)\n",
    "\n",
    "end = time.time()\n",
    "\n",
    "print('Appending 1000 elements:', end - start)\n",
    "\n",
    "# Adding a new node to the beginning of the list - O(1) - Constant Time\n",
    "b_linked_list = LinkedList()\n",
    "\n",
    "start = time.time()\n",
    "\n",
    "for i in range(10000):\n",
    "    b_linked_list.push_on(i)\n",
    "\n",
    "end = time.time()\n",
    "\n",
    "print('Pushing 1000 elements:', end - start)"
   ]
  },
  {
   "cell_type": "code",
   "execution_count": 127,
   "metadata": {},
   "outputs": [
    {
     "name": "stdout",
     "output_type": "stream",
     "text": [
      "Appending Hello: 0.003021717071533203\n",
      "Pushing Hello: 0.0\n"
     ]
    }
   ],
   "source": [
    "start = time.time()\n",
    "\n",
    "a_linked_list.append('Hello')\n",
    "\n",
    "end = time.time()\n",
    "\n",
    "print('Appending Hello:', end - start)\n",
    "\n",
    "start = time.time()\n",
    "\n",
    "b_linked_list.push_on('Hello')\n",
    "\n",
    "end = time.time()\n",
    "\n",
    "print('Pushing Hello:', end - start)"
   ]
  },
  {
   "cell_type": "code",
   "execution_count": 118,
   "metadata": {},
   "outputs": [
    {
     "name": "stdout",
     "output_type": "stream",
     "text": [
      "Appending to the end of the list: 0.05523324012756348\n",
      "Inserting to the front of the list: 16.512908935546875\n"
     ]
    }
   ],
   "source": [
    "# Adding to the end of Python's built in list - O(1) - Constant Time\n",
    "normal_list_a = []\n",
    "\n",
    "start = time.time()\n",
    "\n",
    "for i in range(100000):\n",
    "    normal_list_a.append(i)\n",
    "\n",
    "end = time.time()\n",
    "\n",
    "print('Appending to the end of the list:', end - start)\n",
    "\n",
    "# Adding a to the beginning of Python's built in list - O(n) - Linear Time\n",
    "normal_list_b = []\n",
    "\n",
    "start = time.time()\n",
    "\n",
    "for i in range(100000):\n",
    "    normal_list_b.insert(0, i)\n",
    "\n",
    "end = time.time()\n",
    "\n",
    "print('Inserting to the front of the list:', end - start)"
   ]
  },
  {
   "cell_type": "markdown",
   "metadata": {},
   "source": [
    "## Binary Search Trees"
   ]
  },
  {
   "cell_type": "code",
   "execution_count": 132,
   "metadata": {},
   "outputs": [
    {
     "data": {
      "text/plain": [
       "15"
      ]
     },
     "execution_count": 132,
     "metadata": {},
     "output_type": "execute_result"
    }
   ],
   "source": [
    "class BST:\n",
    "    def __init__(self, value):\n",
    "        self.value = value\n",
    "        self.left = None\n",
    "        self.right = None\n",
    "        \n",
    "    def __repr__(self):\n",
    "        return f\"<BST|{self.value}>\"\n",
    "    \n",
    "    # Method to add a new node to the tree\n",
    "    def insert(self, new_value):\n",
    "        # if the new value is less than then current node's value\n",
    "        if new_value < self.value:\n",
    "            # if the current node has no left subtree\n",
    "            if self.left is None:\n",
    "                # Set the left subtree to be a new instance of BST with new value\n",
    "                self.left = BST(new_value)\n",
    "            # If the current node DOES have a left subtree\n",
    "            else:\n",
    "                # Call the insert method from the left subtree\n",
    "                self.left.insert(new_value)\n",
    "        # If the new value is greater than or equal to the current node's value\n",
    "        else:\n",
    "            # if the current node has no right subtree\n",
    "            if self.right is None:\n",
    "                # Set the right subtree to be a new instance of BST with new value\n",
    "                self.right = BST(new_value)\n",
    "            # If the current node DOES have a right subtree\n",
    "            else:\n",
    "                # Call the insert method from the right subtree\n",
    "                self.right.insert(new_value)\n",
    "                \n",
    "    # Method to find a node based on value - will either return node or None\n",
    "    def find_node(self, target):\n",
    "        # if target is equal to self.value, we found our node\n",
    "        if target == self.value:\n",
    "            return self\n",
    "        # if not, check if the target is less than the self.value\n",
    "        elif target < self.value:\n",
    "            # See if the node's left subtree is empty\n",
    "            if self.left is None:\n",
    "                # We know the target is no in the tree because it would be here or at least on this path\n",
    "                return None\n",
    "            # if the node does have a left subtree\n",
    "            else:\n",
    "                # Call the find_node method from the left subtree and return that value\n",
    "                return self.left.find_node(target)\n",
    "        # if target is greater\n",
    "        elif target > self.value:\n",
    "            # See if the node's right subtree is empty\n",
    "            if self.right is None:\n",
    "                # We know the target is no in the tree because it would be here or at least on this path\n",
    "                return None\n",
    "            # if the node does have a right subtree\n",
    "            else:\n",
    "                # Call the find_node method from the right subtree and return that value\n",
    "                return self.right.find_node(target)\n",
    "            \n",
    "    # Method to get the max value in a tree\n",
    "    def get_max_value(self):\n",
    "        if self.right is None:\n",
    "            return self.value\n",
    "        else:\n",
    "            return self.right.get_max_value()\n",
    "        \n",
    "    # Method to get the min value in a tree\n",
    "    def get_min_value(self):\n",
    "        if self.left is None:\n",
    "            return self.value\n",
    "        else:\n",
    "            return self.left.get_min_value()\n",
    "            \n",
    "            \n",
    "    \n",
    "    \n",
    "    \n",
    "tree = BST(50)\n",
    "tree.insert(25)\n",
    "tree.insert(15)\n",
    "tree.insert(28)\n",
    "tree.insert(75)\n",
    "tree.insert(65)\n",
    "tree.insert(78)\n",
    "\n",
    "tree.find_node(65)\n",
    "tree.find_node(15)\n",
    "tree.find_node(10)\n",
    "\n",
    "tree.get_max_value()\n",
    "tree.get_min_value()"
   ]
  },
  {
   "cell_type": "code",
   "execution_count": null,
   "metadata": {},
   "outputs": [],
   "source": []
  },
  {
   "cell_type": "code",
   "execution_count": null,
   "metadata": {},
   "outputs": [],
   "source": []
  },
  {
   "cell_type": "code",
   "execution_count": null,
   "metadata": {},
   "outputs": [],
   "source": []
  },
  {
   "cell_type": "markdown",
   "metadata": {},
   "source": [
    "# Homework"
   ]
  },
  {
   "cell_type": "markdown",
   "metadata": {},
   "source": [
    "#### Problem 1: Add a .remove method to the LinkedList\n",
    "\n",
    "Update the `.remove` method to the LinkedList class to remove a node from the list.\n",
    "\n",
    "The method should take in the value to remove and remove the node with that value from the LinkedList."
   ]
  },
  {
   "cell_type": "code",
   "execution_count": 129,
   "metadata": {
    "scrolled": true
   },
   "outputs": [
    {
     "name": "stdout",
     "output_type": "stream",
     "text": [
      "Sunday\n",
      "Monday\n",
      "Wednesday\n",
      "Thursday\n",
      "Friday\n",
      "Saturday\n"
     ]
    }
   ],
   "source": [
    "class Node:\n",
    "    def __init__(self, value):\n",
    "        self.value = value\n",
    "        self.next = None\n",
    "        \n",
    "    def __str__(self):\n",
    "        return str(self.value)\n",
    "    \n",
    "    def __repr__(self):\n",
    "        return f\"<Node|{self.value}>\"\n",
    "\n",
    "class LinkedList:\n",
    "    def __init__(self, head_node=None):\n",
    "        self.head = head_node\n",
    "        \n",
    "    def push_on(self, new_value):\n",
    "        new_node = Node(new_value)\n",
    "        new_node.next = self.head\n",
    "        self.head = new_node\n",
    "        \n",
    "    def print_list(self):\n",
    "        node = self.head\n",
    "        while node is not None:\n",
    "            print(node)\n",
    "            node = node.next\n",
    "            \n",
    "    def append(self, new_value):\n",
    "        new_node = Node(new_value)\n",
    "        if self.head is None:\n",
    "            self.head = new_node\n",
    "        else:\n",
    "            node = self.head\n",
    "            while node.next is not None:\n",
    "                node = node.next\n",
    "            node.next = new_node\n",
    "            \n",
    "    def get_node(self, value_to_get):\n",
    "        node_to_check = self.head\n",
    "        while node_to_check is not None:\n",
    "            if node_to_check.value == value_to_get:\n",
    "                return node_to_check\n",
    "            node_to_check = node_to_check.next\n",
    "        return None\n",
    "    \n",
    "    def insert_after(self, prev_value, new_value):\n",
    "        prev_node = self.get_node(prev_value)\n",
    "        if prev_node is None:\n",
    "            print(f\"{prev_value} is not in the linked list.\")\n",
    "        else:\n",
    "            new_node = Node(new_value)\n",
    "            new_node.next = prev_node.next\n",
    "            prev_node.next = new_node\n",
    "            \n",
    "    def remove(self, value_to_remove):\n",
    "        # get the node that points to the node with the value to remove\n",
    "        # set the previous node's next to the node to remove's next\n",
    "        pass\n",
    "    \n",
    "\n",
    "weekdays = LinkedList()\n",
    "list_of_days = ['Sunday', 'Monday', 'Tuesday', 'Wednesday', 'Thursday', 'Friday', 'Saturday']\n",
    "for day in list_of_days:\n",
    "    weekdays.append(day)\n",
    "\n",
    "weekdays.remove('Tuesday')\n",
    "\n",
    "weekdays.print_list()"
   ]
  },
  {
   "cell_type": "code",
   "execution_count": null,
   "metadata": {},
   "outputs": [],
   "source": []
  }
 ],
 "metadata": {
  "kernelspec": {
   "display_name": "Python 3 (ipykernel)",
   "language": "python",
   "name": "python3"
  },
  "language_info": {
   "codemirror_mode": {
    "name": "ipython",
    "version": 3
   },
   "file_extension": ".py",
   "mimetype": "text/x-python",
   "name": "python",
   "nbconvert_exporter": "python",
   "pygments_lexer": "ipython3",
   "version": "3.10.9"
  }
 },
 "nbformat": 4,
 "nbformat_minor": 2
}
